{
  "nbformat": 4,
  "nbformat_minor": 0,
  "metadata": {
    "colab": {
      "name": "MultivariateTimeSeries.ipynb",
      "version": "0.3.2",
      "provenance": []
    },
    "kernelspec": {
      "name": "python3",
      "display_name": "Python 3"
    },
    "accelerator": "GPU"
  },
  "cells": [
    {
      "cell_type": "markdown",
      "metadata": {
        "id": "e2MDaux9Tmvw",
        "colab_type": "text"
      },
      "source": [
        "# **READ ME:**\n",
        "\n",
        "---\n",
        "\n",
        "To run this, you will need to upload the \"interview_dataset.csv\" file onto your workspace. For my implementation, I used Google Colaboratory so that may be simplest.\n",
        "Other than that, everything else should run on its own.\n",
        "\n",
        "---\n",
        "\n",
        "To summarize my work, I shifted through multiple algorithms, before settling on this one. At first, I tried working with an ANN trained to use prior values to predict future ones, however, this proved to be ineffective beyond a couple of points. I then experimented with univariate data models like ARIMA, but realized that a univariate model was not the correct model. Since the data contained multiple features affecting usage, I decided a multivariate time series model would be best. I ended up using a VAR (Vector Auto Regression) model, and was able to implement and fit it onto the data. I think the overall structure fits the problem well, and would work well for predicting into the future, as it is meant to excel at using each feature to help predict eachother. Unfortunately, in implementation, the model generalized greatly, as when graphed it largely rose to one value and stayed there. I predict that this is an error relating to stationarity, as this is something I've read is critical in confirming within time series. I don't have much experience with it, but there are plentiful resources online, and my first step would be to fix any stationarity issues to create better predictions."
      ]
    },
    {
      "cell_type": "code",
      "metadata": {
        "id": "BQGXlbB6TlAS",
        "colab_type": "code",
        "colab": {}
      },
      "source": [
        "#import initial packages\n",
        "import pandas as pd\n",
        "import matplotlib.pyplot as plt\n",
        "%matplotlib inline"
      ],
      "execution_count": 0,
      "outputs": []
    },
    {
      "cell_type": "code",
      "metadata": {
        "id": "Yjbhs51tdRnn",
        "colab_type": "code",
        "colab": {
          "base_uri": "https://localhost:8080/",
          "height": 177
        },
        "outputId": "ab97dd22-53c4-4e07-c206-cdef87e61630"
      },
      "source": [
        "#read in data\n",
        "df = pd.read_csv(\"interview_dataset.csv\")\n",
        "df.dtypes"
      ],
      "execution_count": 49,
      "outputs": [
        {
          "output_type": "execute_result",
          "data": {
            "text/plain": [
              "datetime              object\n",
              "USAGE_KWH            float64\n",
              "DAY_OF_WEEK          float64\n",
              "HOUR_OF_DAY          float64\n",
              "VISIBILITY           float64\n",
              "TEMP_F                 int64\n",
              "TEMP_C               float64\n",
              "RELATIVE_HUMIDITY      int64\n",
              "dtype: object"
            ]
          },
          "metadata": {
            "tags": []
          },
          "execution_count": 49
        }
      ]
    },
    {
      "cell_type": "code",
      "metadata": {
        "id": "GdveweBJd9rc",
        "colab_type": "code",
        "colab": {}
      },
      "source": [
        "#make the datetimes the index\n",
        "df['datetime'] = pd.to_datetime(df.datetime)\n",
        "data = df.drop(['datetime'], axis=1)\n",
        "data.index = df.datetime"
      ],
      "execution_count": 0,
      "outputs": []
    },
    {
      "cell_type": "code",
      "metadata": {
        "id": "ogxFXjeWeYqV",
        "colab_type": "code",
        "colab": {
          "base_uri": "https://localhost:8080/",
          "height": 223
        },
        "outputId": "218f385d-2f97-4cac-b0c2-48dc772229b5"
      },
      "source": [
        "#new dataframe\n",
        "data.head()"
      ],
      "execution_count": 51,
      "outputs": [
        {
          "output_type": "execute_result",
          "data": {
            "text/html": [
              "<div>\n",
              "<style scoped>\n",
              "    .dataframe tbody tr th:only-of-type {\n",
              "        vertical-align: middle;\n",
              "    }\n",
              "\n",
              "    .dataframe tbody tr th {\n",
              "        vertical-align: top;\n",
              "    }\n",
              "\n",
              "    .dataframe thead th {\n",
              "        text-align: right;\n",
              "    }\n",
              "</style>\n",
              "<table border=\"1\" class=\"dataframe\">\n",
              "  <thead>\n",
              "    <tr style=\"text-align: right;\">\n",
              "      <th></th>\n",
              "      <th>USAGE_KWH</th>\n",
              "      <th>DAY_OF_WEEK</th>\n",
              "      <th>HOUR_OF_DAY</th>\n",
              "      <th>VISIBILITY</th>\n",
              "      <th>TEMP_F</th>\n",
              "      <th>TEMP_C</th>\n",
              "      <th>RELATIVE_HUMIDITY</th>\n",
              "    </tr>\n",
              "    <tr>\n",
              "      <th>datetime</th>\n",
              "      <th></th>\n",
              "      <th></th>\n",
              "      <th></th>\n",
              "      <th></th>\n",
              "      <th></th>\n",
              "      <th></th>\n",
              "      <th></th>\n",
              "    </tr>\n",
              "  </thead>\n",
              "  <tbody>\n",
              "    <tr>\n",
              "      <th>2016-01-01 00:00:00</th>\n",
              "      <td>8.870</td>\n",
              "      <td>4.0</td>\n",
              "      <td>0.0</td>\n",
              "      <td>10.0</td>\n",
              "      <td>45</td>\n",
              "      <td>7.3</td>\n",
              "      <td>80</td>\n",
              "    </tr>\n",
              "    <tr>\n",
              "      <th>2016-01-01 00:15:00</th>\n",
              "      <td>9.053</td>\n",
              "      <td>4.0</td>\n",
              "      <td>0.0</td>\n",
              "      <td>10.0</td>\n",
              "      <td>45</td>\n",
              "      <td>7.3</td>\n",
              "      <td>80</td>\n",
              "    </tr>\n",
              "    <tr>\n",
              "      <th>2016-01-01 00:30:00</th>\n",
              "      <td>8.746</td>\n",
              "      <td>4.0</td>\n",
              "      <td>0.0</td>\n",
              "      <td>10.0</td>\n",
              "      <td>45</td>\n",
              "      <td>7.3</td>\n",
              "      <td>80</td>\n",
              "    </tr>\n",
              "    <tr>\n",
              "      <th>2016-01-01 00:45:00</th>\n",
              "      <td>8.688</td>\n",
              "      <td>4.0</td>\n",
              "      <td>0.0</td>\n",
              "      <td>10.0</td>\n",
              "      <td>45</td>\n",
              "      <td>7.3</td>\n",
              "      <td>80</td>\n",
              "    </tr>\n",
              "    <tr>\n",
              "      <th>2016-01-01 01:00:00</th>\n",
              "      <td>9.062</td>\n",
              "      <td>4.0</td>\n",
              "      <td>1.0</td>\n",
              "      <td>10.0</td>\n",
              "      <td>45</td>\n",
              "      <td>7.0</td>\n",
              "      <td>77</td>\n",
              "    </tr>\n",
              "  </tbody>\n",
              "</table>\n",
              "</div>"
            ],
            "text/plain": [
              "                     USAGE_KWH  DAY_OF_WEEK  ...  TEMP_C  RELATIVE_HUMIDITY\n",
              "datetime                                     ...                           \n",
              "2016-01-01 00:00:00      8.870          4.0  ...     7.3                 80\n",
              "2016-01-01 00:15:00      9.053          4.0  ...     7.3                 80\n",
              "2016-01-01 00:30:00      8.746          4.0  ...     7.3                 80\n",
              "2016-01-01 00:45:00      8.688          4.0  ...     7.3                 80\n",
              "2016-01-01 01:00:00      9.062          4.0  ...     7.0                 77\n",
              "\n",
              "[5 rows x 7 columns]"
            ]
          },
          "metadata": {
            "tags": []
          },
          "execution_count": 51
        }
      ]
    },
    {
      "cell_type": "code",
      "metadata": {
        "id": "qdVHDxIifrMJ",
        "colab_type": "code",
        "colab": {
          "base_uri": "https://localhost:8080/",
          "height": 223
        },
        "outputId": "78b18579-89ab-4a75-c793-55731fbfd4f8"
      },
      "source": [
        "#drop reduntant time-based columns because the date-time object already covers it\n",
        "newdata = data.drop(['DAY_OF_WEEK'], axis = 1)\n",
        "newdata = newdata.drop(['HOUR_OF_DAY'], axis = 1)\n",
        "newdata.head()"
      ],
      "execution_count": 53,
      "outputs": [
        {
          "output_type": "execute_result",
          "data": {
            "text/html": [
              "<div>\n",
              "<style scoped>\n",
              "    .dataframe tbody tr th:only-of-type {\n",
              "        vertical-align: middle;\n",
              "    }\n",
              "\n",
              "    .dataframe tbody tr th {\n",
              "        vertical-align: top;\n",
              "    }\n",
              "\n",
              "    .dataframe thead th {\n",
              "        text-align: right;\n",
              "    }\n",
              "</style>\n",
              "<table border=\"1\" class=\"dataframe\">\n",
              "  <thead>\n",
              "    <tr style=\"text-align: right;\">\n",
              "      <th></th>\n",
              "      <th>USAGE_KWH</th>\n",
              "      <th>VISIBILITY</th>\n",
              "      <th>TEMP_F</th>\n",
              "      <th>TEMP_C</th>\n",
              "      <th>RELATIVE_HUMIDITY</th>\n",
              "    </tr>\n",
              "    <tr>\n",
              "      <th>datetime</th>\n",
              "      <th></th>\n",
              "      <th></th>\n",
              "      <th></th>\n",
              "      <th></th>\n",
              "      <th></th>\n",
              "    </tr>\n",
              "  </thead>\n",
              "  <tbody>\n",
              "    <tr>\n",
              "      <th>2016-01-01 00:00:00</th>\n",
              "      <td>8.870</td>\n",
              "      <td>10.0</td>\n",
              "      <td>45</td>\n",
              "      <td>7.3</td>\n",
              "      <td>80</td>\n",
              "    </tr>\n",
              "    <tr>\n",
              "      <th>2016-01-01 00:15:00</th>\n",
              "      <td>9.053</td>\n",
              "      <td>10.0</td>\n",
              "      <td>45</td>\n",
              "      <td>7.3</td>\n",
              "      <td>80</td>\n",
              "    </tr>\n",
              "    <tr>\n",
              "      <th>2016-01-01 00:30:00</th>\n",
              "      <td>8.746</td>\n",
              "      <td>10.0</td>\n",
              "      <td>45</td>\n",
              "      <td>7.3</td>\n",
              "      <td>80</td>\n",
              "    </tr>\n",
              "    <tr>\n",
              "      <th>2016-01-01 00:45:00</th>\n",
              "      <td>8.688</td>\n",
              "      <td>10.0</td>\n",
              "      <td>45</td>\n",
              "      <td>7.3</td>\n",
              "      <td>80</td>\n",
              "    </tr>\n",
              "    <tr>\n",
              "      <th>2016-01-01 01:00:00</th>\n",
              "      <td>9.062</td>\n",
              "      <td>10.0</td>\n",
              "      <td>45</td>\n",
              "      <td>7.0</td>\n",
              "      <td>77</td>\n",
              "    </tr>\n",
              "  </tbody>\n",
              "</table>\n",
              "</div>"
            ],
            "text/plain": [
              "                     USAGE_KWH  VISIBILITY  TEMP_F  TEMP_C  RELATIVE_HUMIDITY\n",
              "datetime                                                                     \n",
              "2016-01-01 00:00:00      8.870        10.0      45     7.3                 80\n",
              "2016-01-01 00:15:00      9.053        10.0      45     7.3                 80\n",
              "2016-01-01 00:30:00      8.746        10.0      45     7.3                 80\n",
              "2016-01-01 00:45:00      8.688        10.0      45     7.3                 80\n",
              "2016-01-01 01:00:00      9.062        10.0      45     7.0                 77"
            ]
          },
          "metadata": {
            "tags": []
          },
          "execution_count": 53
        }
      ]
    },
    {
      "cell_type": "code",
      "metadata": {
        "id": "b_KCsLnAgt3R",
        "colab_type": "code",
        "colab": {}
      },
      "source": [
        "#remove null values\n",
        "newdata.dropna(inplace=True)"
      ],
      "execution_count": 0,
      "outputs": []
    },
    {
      "cell_type": "code",
      "metadata": {
        "id": "6X35DfLKfhgh",
        "colab_type": "code",
        "colab": {
          "base_uri": "https://localhost:8080/",
          "height": 52
        },
        "outputId": "638ee125-ff61-4408-b8f6-043bbf443425"
      },
      "source": [
        "#conduct test for stationarity - I didn't make any changes off this, and I feel that the dataset not being stationary may have been a cause of problems\n",
        "from statsmodels.tsa.vector_ar.vecm import coint_johansen\n",
        "johan_test_temp = newdata\n",
        "coint_johansen(johan_test_temp,-1,1).eig"
      ],
      "execution_count": 55,
      "outputs": [
        {
          "output_type": "execute_result",
          "data": {
            "text/plain": [
              "array([3.22429324e-02, 2.90661626e-02, 7.89635463e-03, 8.47539763e-04,\n",
              "       6.94429931e-06])"
            ]
          },
          "metadata": {
            "tags": []
          },
          "execution_count": 55
        }
      ]
    },
    {
      "cell_type": "code",
      "metadata": {
        "id": "IYaCDzpvgioS",
        "colab_type": "code",
        "colab": {}
      },
      "source": [
        "#create train and test sets - these have to be in order with time\n",
        "train = newdata[:int(0.8*(len(newdata)))]\n",
        "valid = newdata[int(0.8*(len(newdata))):]"
      ],
      "execution_count": 0,
      "outputs": []
    },
    {
      "cell_type": "code",
      "metadata": {
        "id": "vXlSgCh3hKGM",
        "colab_type": "code",
        "colab": {}
      },
      "source": [
        "#import the Vector Auto Regression model\n",
        "from statsmodels.tsa.vector_ar.var_model import VAR"
      ],
      "execution_count": 0,
      "outputs": []
    },
    {
      "cell_type": "code",
      "metadata": {
        "id": "yeyGBYFPhQiy",
        "colab_type": "code",
        "colab": {
          "base_uri": "https://localhost:8080/",
          "height": 72
        },
        "outputId": "cca04a44-2049-424c-b966-5b82e337d3fe"
      },
      "source": [
        "#Fit the model to the training data\n",
        "model = VAR(endog=train)\n",
        "model_fit = model.fit()"
      ],
      "execution_count": 58,
      "outputs": [
        {
          "output_type": "stream",
          "text": [
            "/usr/local/lib/python3.6/dist-packages/statsmodels/tsa/base/tsa_model.py:225: ValueWarning: A date index has been provided, but it has no associated frequency information and so will be ignored when e.g. forecasting.\n",
            "  ' ignored when e.g. forecasting.', ValueWarning)\n"
          ],
          "name": "stderr"
        }
      ]
    },
    {
      "cell_type": "code",
      "metadata": {
        "id": "Csr-TXNPhSvv",
        "colab_type": "code",
        "colab": {}
      },
      "source": [
        "#make a forecasted prediction on the length of the validation set\n",
        "prediction = model_fit.forecast(model_fit.y, steps=len(valid))"
      ],
      "execution_count": 0,
      "outputs": []
    },
    {
      "cell_type": "code",
      "metadata": {
        "id": "cPg5lnIAhY91",
        "colab_type": "code",
        "colab": {
          "base_uri": "https://localhost:8080/",
          "height": 141
        },
        "outputId": "b2449b20-1fbb-43e6-abff-6782eacb4c17"
      },
      "source": [
        "#the predicted values\n",
        "prediction"
      ],
      "execution_count": 60,
      "outputs": [
        {
          "output_type": "execute_result",
          "data": {
            "text/plain": [
              "array([[17.88137349,  9.95334881, 72.91097743, 22.50766392, 84.89893485],\n",
              "       [17.88956131,  9.90794953, 72.84650894, 22.51440353, 84.78824625],\n",
              "       [17.89936353,  9.86427152, 72.80020189, 22.52038983, 84.67146883],\n",
              "       ...,\n",
              "       [19.42947135,  9.44581972, 67.14291968, 19.47432933, 74.05046247],\n",
              "       [19.42947134,  9.44581972, 67.14291942, 19.47432919, 74.05046237],\n",
              "       [19.42947132,  9.44581973, 67.14291916, 19.47432904, 74.05046226]])"
            ]
          },
          "metadata": {
            "tags": []
          },
          "execution_count": 60
        }
      ]
    },
    {
      "cell_type": "code",
      "metadata": {
        "id": "TId65QbH-sxx",
        "colab_type": "code",
        "colab": {
          "base_uri": "https://localhost:8080/",
          "height": 106
        },
        "outputId": "ac4b4b07-7dcc-42b7-f605-74e77a77edfd"
      },
      "source": [
        "#convert the array to a data frame\n",
        "from sklearn.metrics import mean_squared_error\n",
        "from math import sqrt\n",
        "pred = pd.DataFrame(index=range(0,len(prediction)),columns=[newdata.columns])\n",
        "for j in range(0,5):\n",
        "    for i in range(0, len(prediction)):\n",
        "       pred.iloc[i][j] = prediction[i][j]\n",
        "\n",
        "#check root mean squared error for numerical accuracy checking\n",
        "for i in newdata.columns:\n",
        "    print('rmse value for', i, 'is : ', sqrt(mean_squared_error(pred[i], valid[i])))"
      ],
      "execution_count": 82,
      "outputs": [
        {
          "output_type": "stream",
          "text": [
            "rmse value for USAGE_KWH is :  10.30616770851668\n",
            "rmse value for VISIBILITY is :  2.2983347650263\n",
            "rmse value for TEMP_F is :  14.057107238687415\n",
            "rmse value for TEMP_C is :  7.791691903307459\n",
            "rmse value for RELATIVE_HUMIDITY is :  19.562983763072413\n"
          ],
          "name": "stdout"
        }
      ]
    },
    {
      "cell_type": "code",
      "metadata": {
        "id": "neNFzY91Jd9W",
        "colab_type": "code",
        "colab": {
          "base_uri": "https://localhost:8080/",
          "height": 223
        },
        "outputId": "b32b2f59-7751-49ec-ed17-cafb00b42bf6"
      },
      "source": [
        "#create copy of the validation set to use for the predictions\n",
        "testgraph = valid.copy()\n",
        "testgraph.head()"
      ],
      "execution_count": 63,
      "outputs": [
        {
          "output_type": "execute_result",
          "data": {
            "text/html": [
              "<div>\n",
              "<style scoped>\n",
              "    .dataframe tbody tr th:only-of-type {\n",
              "        vertical-align: middle;\n",
              "    }\n",
              "\n",
              "    .dataframe tbody tr th {\n",
              "        vertical-align: top;\n",
              "    }\n",
              "\n",
              "    .dataframe thead th {\n",
              "        text-align: right;\n",
              "    }\n",
              "</style>\n",
              "<table border=\"1\" class=\"dataframe\">\n",
              "  <thead>\n",
              "    <tr style=\"text-align: right;\">\n",
              "      <th></th>\n",
              "      <th>USAGE_KWH</th>\n",
              "      <th>VISIBILITY</th>\n",
              "      <th>TEMP_F</th>\n",
              "      <th>TEMP_C</th>\n",
              "      <th>RELATIVE_HUMIDITY</th>\n",
              "    </tr>\n",
              "    <tr>\n",
              "      <th>datetime</th>\n",
              "      <th></th>\n",
              "      <th></th>\n",
              "      <th></th>\n",
              "      <th></th>\n",
              "      <th></th>\n",
              "    </tr>\n",
              "  </thead>\n",
              "  <tbody>\n",
              "    <tr>\n",
              "      <th>2016-10-19 19:15:00</th>\n",
              "      <td>18.384</td>\n",
              "      <td>10.0</td>\n",
              "      <td>73</td>\n",
              "      <td>22.5</td>\n",
              "      <td>85</td>\n",
              "    </tr>\n",
              "    <tr>\n",
              "      <th>2016-10-19 19:30:00</th>\n",
              "      <td>16.829</td>\n",
              "      <td>10.0</td>\n",
              "      <td>73</td>\n",
              "      <td>22.5</td>\n",
              "      <td>85</td>\n",
              "    </tr>\n",
              "    <tr>\n",
              "      <th>2016-10-19 19:45:00</th>\n",
              "      <td>20.266</td>\n",
              "      <td>10.0</td>\n",
              "      <td>73</td>\n",
              "      <td>22.5</td>\n",
              "      <td>85</td>\n",
              "    </tr>\n",
              "    <tr>\n",
              "      <th>2016-10-19 20:00:00</th>\n",
              "      <td>17.357</td>\n",
              "      <td>10.0</td>\n",
              "      <td>74</td>\n",
              "      <td>23.1</td>\n",
              "      <td>85</td>\n",
              "    </tr>\n",
              "    <tr>\n",
              "      <th>2016-10-19 20:15:00</th>\n",
              "      <td>12.346</td>\n",
              "      <td>10.0</td>\n",
              "      <td>74</td>\n",
              "      <td>23.1</td>\n",
              "      <td>85</td>\n",
              "    </tr>\n",
              "  </tbody>\n",
              "</table>\n",
              "</div>"
            ],
            "text/plain": [
              "                     USAGE_KWH  VISIBILITY  TEMP_F  TEMP_C  RELATIVE_HUMIDITY\n",
              "datetime                                                                     \n",
              "2016-10-19 19:15:00     18.384        10.0      73    22.5                 85\n",
              "2016-10-19 19:30:00     16.829        10.0      73    22.5                 85\n",
              "2016-10-19 19:45:00     20.266        10.0      73    22.5                 85\n",
              "2016-10-19 20:00:00     17.357        10.0      74    23.1                 85\n",
              "2016-10-19 20:15:00     12.346        10.0      74    23.1                 85"
            ]
          },
          "metadata": {
            "tags": []
          },
          "execution_count": 63
        }
      ]
    },
    {
      "cell_type": "code",
      "metadata": {
        "id": "b6SQuyhHJtjF",
        "colab_type": "code",
        "colab": {}
      },
      "source": [
        "#make an array of only the predicted values for usage_kwh\n",
        "filtered_prediction = []\n",
        "for pred in prediction:\n",
        "  filtered_prediction.append(pred[0])\n",
        "filtered_prediction"
      ],
      "execution_count": 0,
      "outputs": []
    },
    {
      "cell_type": "code",
      "metadata": {
        "id": "TpsRVCudKMcU",
        "colab_type": "code",
        "colab": {}
      },
      "source": [
        "#replace the testgraph's usage_kwh values with the predictions\n",
        "testgraph['USAGE_KWH'] = filtered_prediction"
      ],
      "execution_count": 0,
      "outputs": []
    },
    {
      "cell_type": "code",
      "metadata": {
        "id": "S1umZeroMJNT",
        "colab_type": "code",
        "colab": {
          "base_uri": "https://localhost:8080/",
          "height": 223
        },
        "outputId": "411a6056-c6db-463f-b34f-04f9a20b04ec"
      },
      "source": [
        "#check the change is complete\n",
        "testgraph.head()"
      ],
      "execution_count": 67,
      "outputs": [
        {
          "output_type": "execute_result",
          "data": {
            "text/html": [
              "<div>\n",
              "<style scoped>\n",
              "    .dataframe tbody tr th:only-of-type {\n",
              "        vertical-align: middle;\n",
              "    }\n",
              "\n",
              "    .dataframe tbody tr th {\n",
              "        vertical-align: top;\n",
              "    }\n",
              "\n",
              "    .dataframe thead th {\n",
              "        text-align: right;\n",
              "    }\n",
              "</style>\n",
              "<table border=\"1\" class=\"dataframe\">\n",
              "  <thead>\n",
              "    <tr style=\"text-align: right;\">\n",
              "      <th></th>\n",
              "      <th>USAGE_KWH</th>\n",
              "      <th>VISIBILITY</th>\n",
              "      <th>TEMP_F</th>\n",
              "      <th>TEMP_C</th>\n",
              "      <th>RELATIVE_HUMIDITY</th>\n",
              "    </tr>\n",
              "    <tr>\n",
              "      <th>datetime</th>\n",
              "      <th></th>\n",
              "      <th></th>\n",
              "      <th></th>\n",
              "      <th></th>\n",
              "      <th></th>\n",
              "    </tr>\n",
              "  </thead>\n",
              "  <tbody>\n",
              "    <tr>\n",
              "      <th>2016-10-19 19:15:00</th>\n",
              "      <td>17.881373</td>\n",
              "      <td>10.0</td>\n",
              "      <td>73</td>\n",
              "      <td>22.5</td>\n",
              "      <td>85</td>\n",
              "    </tr>\n",
              "    <tr>\n",
              "      <th>2016-10-19 19:30:00</th>\n",
              "      <td>17.889561</td>\n",
              "      <td>10.0</td>\n",
              "      <td>73</td>\n",
              "      <td>22.5</td>\n",
              "      <td>85</td>\n",
              "    </tr>\n",
              "    <tr>\n",
              "      <th>2016-10-19 19:45:00</th>\n",
              "      <td>17.899364</td>\n",
              "      <td>10.0</td>\n",
              "      <td>73</td>\n",
              "      <td>22.5</td>\n",
              "      <td>85</td>\n",
              "    </tr>\n",
              "    <tr>\n",
              "      <th>2016-10-19 20:00:00</th>\n",
              "      <td>17.910603</td>\n",
              "      <td>10.0</td>\n",
              "      <td>74</td>\n",
              "      <td>23.1</td>\n",
              "      <td>85</td>\n",
              "    </tr>\n",
              "    <tr>\n",
              "      <th>2016-10-19 20:15:00</th>\n",
              "      <td>17.923121</td>\n",
              "      <td>10.0</td>\n",
              "      <td>74</td>\n",
              "      <td>23.1</td>\n",
              "      <td>85</td>\n",
              "    </tr>\n",
              "  </tbody>\n",
              "</table>\n",
              "</div>"
            ],
            "text/plain": [
              "                     USAGE_KWH  VISIBILITY  TEMP_F  TEMP_C  RELATIVE_HUMIDITY\n",
              "datetime                                                                     \n",
              "2016-10-19 19:15:00  17.881373        10.0      73    22.5                 85\n",
              "2016-10-19 19:30:00  17.889561        10.0      73    22.5                 85\n",
              "2016-10-19 19:45:00  17.899364        10.0      73    22.5                 85\n",
              "2016-10-19 20:00:00  17.910603        10.0      74    23.1                 85\n",
              "2016-10-19 20:15:00  17.923121        10.0      74    23.1                 85"
            ]
          },
          "metadata": {
            "tags": []
          },
          "execution_count": 67
        }
      ]
    },
    {
      "cell_type": "code",
      "metadata": {
        "id": "OQuj2xQCNB_M",
        "colab_type": "code",
        "colab": {
          "base_uri": "https://localhost:8080/",
          "height": 287
        },
        "outputId": "992e0322-9e45-4c25-cd31-c22e14b4881a"
      },
      "source": [
        "#compare the validation set to the predictions\n",
        "#The graph shows that the model generalized heavily, and work will need to be done to improve it.\n",
        "#I believe it was an issue with stationarity, which I will have to work more with to improve upon\n",
        "plt.plot(valid['USAGE_KWH'])\n",
        "plt.plot(testgraph['USAGE_KWH'])\n"
      ],
      "execution_count": 70,
      "outputs": [
        {
          "output_type": "execute_result",
          "data": {
            "text/plain": [
              "[<matplotlib.lines.Line2D at 0x7f94147b1a90>]"
            ]
          },
          "metadata": {
            "tags": []
          },
          "execution_count": 70
        },
        {
          "output_type": "display_data",
          "data": {
            "image/png": "[encoded data removed]",
            "text/plain": [
              "<Figure size 432x288 with 1 Axes>"
            ]
          },
          "metadata": {
            "tags": []
          }
        }
      ]
    },
    {
      "cell_type": "code",
      "metadata": {
        "id": "cVgG67odAKgS",
        "colab_type": "code",
        "colab": {
          "base_uri": "https://localhost:8080/",
          "height": 72
        },
        "outputId": "09ad6e1a-d81b-4fcc-a7af-60fe497fe789"
      },
      "source": [
        "#fitting the model on the full dataset, and predicting 96 datapoints into the future\n",
        "model = VAR(endog=newdata)\n",
        "model_fit = model.fit()\n",
        "yhat = model_fit.forecast(model_fit.y, steps=96)"
      ],
      "execution_count": 84,
      "outputs": [
        {
          "output_type": "stream",
          "text": [
            "/usr/local/lib/python3.6/dist-packages/statsmodels/tsa/base/tsa_model.py:225: ValueWarning: A date index has been provided, but it has no associated frequency information and so will be ignored when e.g. forecasting.\n",
            "  ' ignored when e.g. forecasting.', ValueWarning)\n"
          ],
          "name": "stderr"
        }
      ]
    },
    {
      "cell_type": "code",
      "metadata": {
        "id": "WhgYgcDkGHTv",
        "colab_type": "code",
        "colab": {}
      },
      "source": [
        "#making the predictions into a dataframe\n",
        "predyhat = pd.DataFrame(index=range(0,len(yhat)),columns=[newdata.columns])\n",
        "for j in range(0,5):\n",
        "    for i in range(0, len(yhat)):\n",
        "       predyhat.iloc[i][j] = yhat[i][j]"
      ],
      "execution_count": 0,
      "outputs": []
    },
    {
      "cell_type": "code",
      "metadata": {
        "id": "nyKnuKt-Pv3P",
        "colab_type": "code",
        "colab": {
          "base_uri": "https://localhost:8080/",
          "height": 194
        },
        "outputId": "9cc93407-5162-4447-d60a-ce9674fc8a9e"
      },
      "source": [
        "#checking it is indeed a dataframe\n",
        "predyhat.head()"
      ],
      "execution_count": 86,
      "outputs": [
        {
          "output_type": "execute_result",
          "data": {
            "text/html": [
              "<div>\n",
              "<style scoped>\n",
              "    .dataframe tbody tr th:only-of-type {\n",
              "        vertical-align: middle;\n",
              "    }\n",
              "\n",
              "    .dataframe tbody tr th {\n",
              "        vertical-align: top;\n",
              "    }\n",
              "\n",
              "    .dataframe thead tr th {\n",
              "        text-align: left;\n",
              "    }\n",
              "</style>\n",
              "<table border=\"1\" class=\"dataframe\">\n",
              "  <thead>\n",
              "    <tr>\n",
              "      <th></th>\n",
              "      <th>USAGE_KWH</th>\n",
              "      <th>VISIBILITY</th>\n",
              "      <th>TEMP_F</th>\n",
              "      <th>TEMP_C</th>\n",
              "      <th>RELATIVE_HUMIDITY</th>\n",
              "    </tr>\n",
              "  </thead>\n",
              "  <tbody>\n",
              "    <tr>\n",
              "      <th>0</th>\n",
              "      <td>6.89649</td>\n",
              "      <td>5.22158</td>\n",
              "      <td>65.029</td>\n",
              "      <td>18.392</td>\n",
              "      <td>90.1382</td>\n",
              "    </tr>\n",
              "    <tr>\n",
              "      <th>1</th>\n",
              "      <td>7.2405</td>\n",
              "      <td>5.4308</td>\n",
              "      <td>65.0499</td>\n",
              "      <td>18.3854</td>\n",
              "      <td>90.2608</td>\n",
              "    </tr>\n",
              "    <tr>\n",
              "      <th>2</th>\n",
              "      <td>7.57077</td>\n",
              "      <td>5.62817</td>\n",
              "      <td>65.0651</td>\n",
              "      <td>18.38</td>\n",
              "      <td>90.3678</td>\n",
              "    </tr>\n",
              "    <tr>\n",
              "      <th>3</th>\n",
              "      <td>7.88796</td>\n",
              "      <td>5.81422</td>\n",
              "      <td>65.0765</td>\n",
              "      <td>18.3757</td>\n",
              "      <td>90.4593</td>\n",
              "    </tr>\n",
              "    <tr>\n",
              "      <th>4</th>\n",
              "      <td>8.19272</td>\n",
              "      <td>5.98952</td>\n",
              "      <td>65.0853</td>\n",
              "      <td>18.3724</td>\n",
              "      <td>90.5358</td>\n",
              "    </tr>\n",
              "  </tbody>\n",
              "</table>\n",
              "</div>"
            ],
            "text/plain": [
              "  USAGE_KWH VISIBILITY   TEMP_F   TEMP_C RELATIVE_HUMIDITY\n",
              "0   6.89649    5.22158   65.029   18.392           90.1382\n",
              "1    7.2405     5.4308  65.0499  18.3854           90.2608\n",
              "2   7.57077    5.62817  65.0651    18.38           90.3678\n",
              "3   7.88796    5.81422  65.0765  18.3757           90.4593\n",
              "4   8.19272    5.98952  65.0853  18.3724           90.5358"
            ]
          },
          "metadata": {
            "tags": []
          },
          "execution_count": 86
        }
      ]
    },
    {
      "cell_type": "code",
      "metadata": {
        "id": "eKN8U7_IP0Rf",
        "colab_type": "code",
        "colab": {
          "base_uri": "https://localhost:8080/",
          "height": 287
        },
        "outputId": "db3d8ea1-250b-4351-9b1e-0716e92319ec"
      },
      "source": [
        "#plotting the predictions to see the results\n",
        "#Again, the model clearly generalized greatly, and changes will need to be made to improve stationarity, and take into account seasonality\n",
        "plt.plot(predyhat['USAGE_KWH'])"
      ],
      "execution_count": 87,
      "outputs": [
        {
          "output_type": "execute_result",
          "data": {
            "text/plain": [
              "[<matplotlib.lines.Line2D at 0x7f9414320828>]"
            ]
          },
          "metadata": {
            "tags": []
          },
          "execution_count": 87
        },
        {
          "output_type": "display_data",
          "data": {
            "image/png": "[encoded data removed]",
            "text/plain": [
              "<Figure size 432x288 with 1 Axes>"
            ]
          },
          "metadata": {
            "tags": []
          }
        }
      ]
    },
    {
      "cell_type": "code",
      "metadata": {
        "id": "-vm6FkFlQDKS",
        "colab_type": "code",
        "colab": {}
      },
      "source": [
        ""
      ],
      "execution_count": 0,
      "outputs": []
    }
  ]
}